{
 "cells": [
  {
   "cell_type": "code",
   "execution_count": null,
   "id": "fd3756a2",
   "metadata": {},
   "outputs": [],
   "source": [
    "from dotenv import load_dotenv\n",
    "import os\n",
    "\n",
    "load_dotenv()\n",
    "TRELLO_API_KEY = os.getenv(\"TRELLO_API_KEY\")\n",
    "TRELLO_TOKEN = os.getenv(\"TRELLO_TOKEN\")\n",
    "SLACK_BOT_TOKEN = os.getenv(\"SLACK_BOT_TOKEN\")\n",
    "SLACK_CHANNEL_ID = os.getenv(\"SLACK_CHANNEL_ID\")\n",
    "GEMINI_API_KEY = os.getenv(\"GEMINI_API_KEY\")\n",
    "APP_TOKEN = os.getenv(\"APP_TOKEN\")\n",
    "\n",
    "BOARD_ID = \"\""
   ]
  },
  {
   "cell_type": "code",
   "execution_count": null,
   "id": "c05238b8",
   "metadata": {},
   "outputs": [
    {
     "name": "stdout",
     "output_type": "stream",
     "text": [
      "<class 'typing.NewType'>\n"
     ]
    }
   ],
   "source": [
    "from typing import NewType\n",
    "\n",
    "class CardTypeHint:\n",
    "    CardId = NewType('CardId', str)\n",
    "    ListId = NewType('ListId', str)\n",
    "    BoardID = NewType('BoardID', str)\n",
    "    CardName = NewType('CardName', str)\n",
    "    PositionCard = NewType('PositionCard', float)\n",
    "    DescriptionCard = NewType('DescriptionCard', str)\n",
    "\n",
    "\n",
    "CardId = CardTypeHint.CardId\n",
    "\n",
    "print((CardId))"
   ]
  },
  {
   "cell_type": "code",
   "execution_count": null,
   "id": "9bbcf170",
   "metadata": {},
   "outputs": [],
   "source": [
    "print (TRELLO_API_KEY, TRELLO_TOKEN)"
   ]
  },
  {
   "cell_type": "code",
   "execution_count": null,
   "id": "e9d27929",
   "metadata": {},
   "outputs": [],
   "source": [
    "import requests\n",
    "import json\n",
    "\n",
    "url = \"https://api.trello.com/1/members/me/boards\"\n",
    "\n",
    "headers = {\n",
    "  \"Accept\": \"application/json\"\n",
    "}\n",
    "\n",
    "params = {\"key\": TRELLO_API_KEY, \"token\": TRELLO_TOKEN}\n",
    "\n",
    "response = requests.get(url,headers=headers,\n",
    "   params=params\n",
    ")\n",
    "\n",
    "\n",
    "print(json.dumps(json.loads(response.text), sort_keys=True, indent=4, separators=(\",\", \": \")))"
   ]
  },
  {
   "cell_type": "markdown",
   "id": "4a824151",
   "metadata": {},
   "source": [
    "# Ejemplo"
   ]
  },
  {
   "cell_type": "code",
   "execution_count": null,
   "id": "e9e77b78",
   "metadata": {},
   "outputs": [],
   "source": [
    "# def get_trello_boards():\n",
    "#     url = \"https://api.trello.com/1/members/me/boards\"\n",
    "#     params = {\"key\": TRELLO_API_KEY, \"token\": TRELLO_TOKEN}\n",
    "#     response = requests.get(url, params=params)\n",
    "#     return response.json()\n",
    "\n",
    "# def get_trello_lists(board_id):\n",
    "#     url = f\"https://api.trello.com/1/boards/{board_id}/lists\"\n",
    "#     params = {\"key\": TRELLO_API_KEY, \"token\": TRELLO_TOKEN}\n",
    "#     response = requests.get(url, params=params)\n",
    "#     lists_dic = {list['name']: list['id'] for list in response.json()}\n",
    "#     return lists_dic"
   ]
  },
  {
   "cell_type": "markdown",
   "id": "1671bee1",
   "metadata": {},
   "source": [
    "# El bueno"
   ]
  },
  {
   "cell_type": "code",
   "execution_count": null,
   "id": "4799749b",
   "metadata": {},
   "outputs": [],
   "source": [
    "def get_trello_boards():\n",
    "    url = \"https://api.trello.com/1/members/me/boards\"\n",
    "    params = {\"key\": TRELLO_API_KEY, \"token\": TRELLO_TOKEN}\n",
    "    response = requests.get(url, params=params)\n",
    "    if response.status_code == 200:\n",
    "        boards_dict = {list['name']: list['id'] for list in response.json()}\n",
    "        return boards_dict\n",
    "    else:\n",
    "        print(f\"Error: {response.status_code}\")\n",
    "        return None\n",
    "\n",
    "def get_trello_lists(board_id):\n",
    "    url = f\"https://api.trello.com/1/boards/{board_id}/lists\"\n",
    "    params = {\"key\": TRELLO_API_KEY, \"token\": TRELLO_TOKEN}\n",
    "    response = requests.get(url, params=params)\n",
    "    if response.status_code == 200:\n",
    "        lists_dic = {list['name']: list['id'] for list in response.json()}\n",
    "        return lists_dic\n",
    "    else:\n",
    "        print(f\"Error: {response.status_code}\")\n",
    "        return None"
   ]
  },
  {
   "cell_type": "code",
   "execution_count": null,
   "id": "4e0a270a",
   "metadata": {},
   "outputs": [],
   "source": [
    "lists_dict = get_trello_lists(BOARD_ID)\n",
    "lists_dict"
   ]
  },
  {
   "cell_type": "code",
   "execution_count": null,
   "id": "e45488e6",
   "metadata": {},
   "outputs": [],
   "source": [
    "boards = get_trello_boards()\n",
    "print(\"Your Trello Boards:\", boards)"
   ]
  },
  {
   "cell_type": "code",
   "execution_count": null,
   "id": "cca2bd8f",
   "metadata": {},
   "outputs": [],
   "source": [
    "from crewai import LLM\n",
    "import json\n",
    "\n",
    "llm = LLM(\n",
    "    model=\"gemini/gemini-2.0-flash\",\n",
    "    temperature=0.7\n",
    ")\n",
    "\n",
    "def parse_user_input(user_message: str) -> tuple:\n",
    "    prompt = f\"\"\"\n",
    "    Analyze the user message and extract the intent and details:\n",
    "\n",
    "    Mensaje: {user_message}\n",
    "\n",
    "    IMPORTANT: Your response MUST be valid JSON with no additional text.\n",
    "    Answer EXACTLY in this format: {{\"intent\": \"action_type\", \"details\": {{\"key\": \"value\"}}}}\n",
    "    For example: {{\"intent\": \"move_card\", \"details\": {{\"card_id\": 123, \"list\": \"Done\"}}}}\n",
    "    \"\"\"\n",
    "    \n",
    "    response_text = llm.call(prompt)\n",
    "    print(f'Respuesta del modelo: {response_text}') #DEBUG\n",
    "    print(f'Longitud:', len(response_text)) #Debug\n",
    "    \n",
    "    # print(\"Respuesta del modelo:\", repr(response_text)) #DEBUG\n",
    "    \n",
    "    # Intentar extraer JSON de la respuesta\n",
    "    try:\n",
    "        # Buscar el primer { y el último } para extraer solo el JSON\n",
    "        start = response_text.find('{')\n",
    "        end = response_text.rfind('}') + 1\n",
    "        \n",
    "        if start >= 0 and end > start:\n",
    "            json_str = response_text[start:end]\n",
    "            # print(\"JSON extraído:\", json_str)\n",
    "            response_dict = json.loads(json_str)\n",
    "            intent = response_dict['intent']\n",
    "            details = response_dict['details']\n",
    "            return intent, details\n",
    "        else:\n",
    "            print(\"No se encontró formato JSON en la respuesta\")\n",
    "            return None, None\n",
    "    except json.JSONDecodeError as e:\n",
    "        print(f\"Error al parsear JSON: {e}\")\n",
    "        return None, None\n",
    "\n",
    "# Uso\n"
   ]
  },
  {
   "cell_type": "code",
   "execution_count": null,
   "id": "65b69643",
   "metadata": {},
   "outputs": [],
   "source": [
    "user_message = \"Move card in Testing to Backlog\"\n",
    "intent, details = parse_user_input(user_message)\n",
    "print(\"Resultado:\", intent, details)"
   ]
  },
  {
   "cell_type": "code",
   "execution_count": null,
   "id": "eb78c213",
   "metadata": {},
   "outputs": [],
   "source": [
    "def create_trello_card(list_id, name, desc):\n",
    "    url = \"https://api.trello.com/1/cards\"\n",
    "\n",
    "    headers = {\n",
    "        \"Accept\": \"application/json\"}\n",
    "    \n",
    "    query ={\n",
    "        \"idList\" : list_id,\n",
    "        \"name\" : name,\n",
    "        \"desc\" : desc,\n",
    "        'key' : TRELLO_API_KEY,\n",
    "        'token': TRELLO_TOKEN,\n",
    "        'pos': 'top'\n",
    "        # Check docs to see what other params you can add\n",
    "        #https://developer.atlassian.com/cloud/trello/rest/api-group-cards/#api-cards-post\n",
    "    }\n",
    "\n",
    "    response = requests.post(\n",
    "                url,\n",
    "                headers=headers,\n",
    "                params=query\n",
    "    )\n",
    "    \n",
    "    if response.status_code == 200:\n",
    "        return 'Tarjeta creada con éxito'\n",
    "    # In future, add a better return, like json response\n",
    "\n",
    "create_trello_card(\n",
    "    list_id=lists_dict[\"Debug\"],\n",
    "    name='test card',\n",
    "    desc= 'testing card creation'\n",
    "    )\n"
   ]
  },
  {
   "cell_type": "code",
   "execution_count": null,
   "id": "be624ef0",
   "metadata": {},
   "outputs": [],
   "source": [
    "from typing import NewType, Optional\n",
    "\n",
    "CardId = NewType('CardId', str)\n",
    "ListId = NewType('ListId', str)\n",
    "BoardID = NewType('BoardID', str)"
   ]
  },
  {
   "cell_type": "code",
   "execution_count": null,
   "id": "58ede3ef",
   "metadata": {},
   "outputs": [],
   "source": [
    "def update_trello_card(\n",
    "        card_id:CardId,\n",
    "        list_id:ListId,\n",
    "        name: Optional[str] = None,\n",
    "        desc: Optional[str] = None,\n",
    "        pos: Optional[float] = None) -> requests.Response:\n",
    "    url = f\"https://api.trello.com/1/cards/{card_id}\"\n",
    "    \n",
    "    headers = {\n",
    "        \"Accept\": \"application/json\"}\n",
    "\n",
    "    query = {\n",
    "        \"key\": TRELLO_API_KEY,\n",
    "        \"token\": TRELLO_TOKEN,\n",
    "        \"idList\": list_id,\n",
    "        'name' : name,\n",
    "        'desc' : desc,\n",
    "        'pos' : pos\n",
    "    }\n",
    "    response = requests.put(url,headers=headers, params=query)\n",
    "    if response.status_code == 200:\n",
    "        return response\n",
    "    else:\n",
    "        return f'Error: {response.status_code}'\n"
   ]
  },
  {
   "cell_type": "markdown",
   "id": "b4197bc4",
   "metadata": {},
   "source": [
    "# get_cards_in_list"
   ]
  },
  {
   "cell_type": "code",
   "execution_count": null,
   "id": "9a19110a",
   "metadata": {},
   "outputs": [],
   "source": [
    "def get_cards_in_list(list_id):\n",
    "    url = f\"https://api.trello.com/1/lists/{list_id}/cards\"\n",
    "\n",
    "    headers = {\n",
    "      \"Accept\": \"application/json\"\n",
    "    }\n",
    "    # query = {}\n",
    "    response = requests.get(url,headers=headers,params=params)\n",
    "\n",
    "    if response.status_code == 200:\n",
    "        card_list = {card['name']: card['id'] for card in response.json()}\n",
    "        return card_list"
   ]
  },
  {
   "cell_type": "markdown",
   "id": "c0215ecc",
   "metadata": {},
   "source": [
    "# Testing"
   ]
  },
  {
   "cell_type": "code",
   "execution_count": null,
   "id": "1dc65e35",
   "metadata": {},
   "outputs": [],
   "source": [
    "cards_dict = get_cards_in_list(lists_dict['Debug'])\n",
    "cards_dict"
   ]
  },
  {
   "cell_type": "code",
   "execution_count": null,
   "id": "8766e98f",
   "metadata": {},
   "outputs": [],
   "source": [
    "update_trello_card(cards_dict['new-card-testing'], lists_dict['Testing'])"
   ]
  },
  {
   "cell_type": "code",
   "execution_count": null,
   "id": "3b6d92d5",
   "metadata": {},
   "outputs": [],
   "source": [
    "# update_trello_card(card_id=cards_list['second-card'], list_id=lists_dict[\"Debug\"], name='new-card-testing-2', desc='this is a test card', pos=2.0)"
   ]
  },
  {
   "cell_type": "code",
   "execution_count": null,
   "id": "beabc2dd",
   "metadata": {},
   "outputs": [],
   "source": [
    "def get_trello_card(id:CardId):\n",
    "    url = f\"https://api.trello.com/1/cards/{id}\"\n",
    "    headers = {\n",
    "  \"Accept\": \"application/json\"\n",
    "}\n",
    "\n",
    "    query = {\n",
    "    'key': TRELLO_API_KEY,\n",
    "    'token': TRELLO_TOKEN\n",
    "    }\n",
    "\n",
    "    response = requests.get(url, headers=headers, params=query)\n",
    "\n",
    "    if response.status_code == 200:\n",
    "        card_info = response.json()\n",
    "        return card_info\n",
    "    else:\n",
    "        return f'Error: {response.status_code}'"
   ]
  },
  {
   "cell_type": "code",
   "execution_count": null,
   "id": "bbd98a38",
   "metadata": {},
   "outputs": [],
   "source": [
    "get_trello_card(cards_dict['new-card-testing-2'])"
   ]
  },
  {
   "cell_type": "code",
   "execution_count": null,
   "id": "89b66914",
   "metadata": {},
   "outputs": [],
   "source": [
    "def send_to_slack(message):\n",
    "    url = \"https://slack.com/api/chat.postMessage\"\n",
    "    headers = {\"Authorization\": f\"Bearer {SLACK_BOT_TOKEN}\"}\n",
    "    payload = {\"channel\": SLACK_CHANNEL_ID, \"text\": message}\n",
    "    response = requests.post(url, headers=headers, json=payload)\n",
    "    \n",
    "    # Verificar la respuesta completa de Slack\n",
    "    response_data = response.json()\n",
    "    if response.status_code == 200 and response_data.get(\"ok\"):\n",
    "        print(f\"Mensaje enviado correctamente: {response_data}\")\n",
    "        return True\n",
    "    else:\n",
    "        print(f\"Error al enviar mensaje: {response_data}\")\n",
    "        return False\n",
    "\n",
    "# Llamada a la función (fuera de la definición)\n",
    "result = send_to_slack(\"lhkhlkhlkhlk\")\n",
    "print(result)"
   ]
  },
  {
   "cell_type": "code",
   "execution_count": null,
   "id": "05b20127",
   "metadata": {},
   "outputs": [],
   "source": [
    "from datetime import datetime\n",
    "\n",
    "def generate_daily_summary(cards):\n",
    "    # Obtener la fecha actual\n",
    "    today = datetime.now().date()\n",
    "    \n",
    "    summary = \"# Daily Stand-Up Summary\\n\\n\"\n",
    "    summary += f\"Date: {today.strftime('%d/%m/%Y')}\\n\\n\"\n",
    "    \n",
    "    # Filtrar tarjetas actualizadas hoy (opcional)\n",
    "    today_cards = []\n",
    "    for card in cards:\n",
    "        last_activity = datetime.fromisoformat(card['dateLastActivity'].replace('Z', '+00:00'))\n",
    "        if last_activity.date() == today:\n",
    "            today_cards.append(card)\n",
    "    \n",
    "    if not today_cards:\n",
    "        summary += \"No cards were updated today.\\n\"\n",
    "        return summary\n",
    "    \n",
    "    summary += f\"## Cards Updated Today ({len(today_cards)})\\n\\n\"\n",
    "    \n",
    "    for card in today_cards:\n",
    "        # Extraer información relevante\n",
    "        name = card['name']\n",
    "        description = card['desc'] if card['desc'] else \"No description\"\n",
    "        status = \"Open\" if not card['closed'] else \"Closed\"\n",
    "        url = card['url']\n",
    "        \n",
    "        # Añadir al resumen\n",
    "        summary += f\"### {name}\\n\"\n",
    "        summary += f\"- **Status:** {status}\\n\"\n",
    "        summary += f\"- **Description:** {description}\\n\"\n",
    "        summary += f\"- **Last Updated:** {card['dateLastActivity']}\\n\"\n",
    "        summary += f\"- **URL:** [{url}]\\n\\n\"\n",
    "    \n",
    "    return summary"
   ]
  },
  {
   "cell_type": "code",
   "execution_count": null,
   "id": "42fdf08c",
   "metadata": {},
   "outputs": [],
   "source": [
    "cards_dict"
   ]
  },
  {
   "cell_type": "code",
   "execution_count": null,
   "id": "892bafb8",
   "metadata": {},
   "outputs": [],
   "source": [
    "cards = list(cards_dict.values())\n",
    "cards"
   ]
  },
  {
   "cell_type": "code",
   "execution_count": null,
   "id": "2ec7f7e7",
   "metadata": {},
   "outputs": [],
   "source": [
    "cards_info = [get_trello_card(card_id)for card_id in cards]\n"
   ]
  },
  {
   "cell_type": "code",
   "execution_count": null,
   "id": "6ab8f30b",
   "metadata": {},
   "outputs": [],
   "source": [
    "summary = generate_daily_summary(cards_info)"
   ]
  },
  {
   "cell_type": "code",
   "execution_count": null,
   "id": "e5936c4d",
   "metadata": {},
   "outputs": [],
   "source": [
    "send_to_slack(summary)"
   ]
  },
  {
   "cell_type": "markdown",
   "id": "0514eee1",
   "metadata": {},
   "source": [
    "# Investigar como hacer para que la información que le den al bot lleguen al agente"
   ]
  },
  {
   "cell_type": "code",
   "execution_count": null,
   "id": "1913d434",
   "metadata": {},
   "outputs": [],
   "source": []
  }
 ],
 "metadata": {
  "kernelspec": {
   "display_name": "venv",
   "language": "python",
   "name": "python3"
  },
  "language_info": {
   "codemirror_mode": {
    "name": "ipython",
    "version": 3
   },
   "file_extension": ".py",
   "mimetype": "text/x-python",
   "name": "python",
   "nbconvert_exporter": "python",
   "pygments_lexer": "ipython3",
   "version": "3.11.0"
  }
 },
 "nbformat": 4,
 "nbformat_minor": 5
}
